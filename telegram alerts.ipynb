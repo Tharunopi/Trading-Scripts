{
 "cells": [
  {
   "cell_type": "code",
   "execution_count": 1,
   "id": "946d0583-4409-4c6a-825f-8d57a913aa88",
   "metadata": {},
   "outputs": [],
   "source": [
    "from telethon import TelegramClient, events\n",
    "import asyncio\n",
    "from twilio.rest import Client\n",
    "import spacy"
   ]
  },
  {
   "cell_type": "code",
   "execution_count": 2,
   "id": "cec459d8-e504-4350-9af6-5ac114581278",
   "metadata": {},
   "outputs": [],
   "source": [
    "API_ID = '28579025'\n",
    "API_HASH = '8c7e58b5119f224020e994770fe43127'\n",
    "PHONE_NUMBER = '+919360496526'\n",
    "TARGET_GROUP = ['binance_announcements', 'iamyoubutcoin_public', 'tester323dd']\n",
    "acc_ssid = \"ACf867ac43d3e65c2a2bea6b23725fb323\"\n",
    "auth_token = \"2d5e8aa4e52727e35921068c6516b226\"\n",
    "twilio_number = \"+12243872051\"\n",
    "my_number = \"+919360496526\""
   ]
  },
  {
   "cell_type": "code",
   "execution_count": 3,
   "id": "0779372e-2904-4118-8cee-ef629dca47e4",
   "metadata": {},
   "outputs": [],
   "source": [
    "client = Client(acc_ssid, auth_token)"
   ]
  },
  {
   "cell_type": "code",
   "execution_count": null,
   "id": "fe5a31d8-1aec-4f97-9cbf-0c30e8a1167d",
   "metadata": {},
   "outputs": [
    {
     "name": "stdout",
     "output_type": "stream",
     "text": [
      "Watching started.....\n"
     ]
    }
   ],
   "source": [
    "class TelegramAlert:\n",
    "\n",
    "    def __init__(self, api_id, api_hash, phone_number):\n",
    "        self.client = TelegramClient(phone_number, api_id, api_hash)\n",
    "\n",
    "    async def start(self):\n",
    "        await self.client.start()\n",
    "        print(\"Watching started.....\")\n",
    "\n",
    "        @self.client.on(events.NewMessage(chats=TARGET_GROUP))\n",
    "        async def message_handler(event):\n",
    "            await self.process_message(event.message)\n",
    "\n",
    "    async def process_message(self, message):\n",
    "        try:\n",
    "            sender = await message.get_sender()\n",
    "            sender_name = sender.first_name if sender else \"Unknown\" \n",
    "            \n",
    "            print(f\"New message from {sender_name}: {message.text}\")\n",
    "            \n",
    "            if message.text:\n",
    "                if \"Add\" in message.text or \"List\" in message.text:\n",
    "                    nlp = spacy.load(r\"model-best\")\n",
    "                    doc = nlp(message.text)\n",
    "                    pairs = []\n",
    "                    for i in doc.ents:\n",
    "                        if len(i.text) > 4:\n",
    "                            pairs.append(i.text)\n",
    "                        \n",
    "                    alert = f\"Alert! Binance launches new trading pair {pairs}\"\n",
    "                    print(alert)\n",
    "                    messages = client.messages.create(\n",
    "                        from_=twilio_number,\n",
    "                        body=alert,\n",
    "                        to=my_number\n",
    "                    )\n",
    "                    print(f\"{messages.sid} message sent$$\")\n",
    "\n",
    "                if \"Airdrop\" in message.text or \"Airdrops!\" in message.text or \"HODLer\" in message.text:\n",
    "                    nlp = spacy.load(r\"model-best\")\n",
    "                    doc = nlp(message.text)\n",
    "                    pairs = []\n",
    "                    for i in doc.ents:\n",
    "                        if len(i.text) > 4:\n",
    "                            pairs.append(i.text)\n",
    "                        \n",
    "                    alert = f\"Alert! Binance announces new Airdrop!! {pairs}\"\n",
    "                    print(alert)\n",
    "                    messages = client.messages.create(\n",
    "                        from_=twilio_number,\n",
    "                        body=alert,\n",
    "                        to=my_number\n",
    "                    )\n",
    "                    print(f\"{messages.sid} message sent$$\")\n",
    "                    \n",
    "                    \n",
    "        except Exception as e:\n",
    "            print(f\"Error processing message: {e}\")\n",
    "\n",
    "    async def run(self):\n",
    "        await self.start()\n",
    "        await self.client.run_until_disconnected()\n",
    "\n",
    "async def main():\n",
    "    processor = TelegramAlert(API_ID, API_HASH, PHONE_NUMBER)\n",
    "    await processor.run()\n",
    "\n",
    "await main()"
   ]
  },
  {
   "cell_type": "code",
   "execution_count": null,
   "id": "74ef42d6-6123-4faf-a953-0aa751e0d37b",
   "metadata": {},
   "outputs": [],
   "source": []
  }
 ],
 "metadata": {
  "kernelspec": {
   "display_name": "Python 3 (ipykernel)",
   "language": "python",
   "name": "python3"
  },
  "language_info": {
   "codemirror_mode": {
    "name": "ipython",
    "version": 3
   },
   "file_extension": ".py",
   "mimetype": "text/x-python",
   "name": "python",
   "nbconvert_exporter": "python",
   "pygments_lexer": "ipython3",
   "version": "3.11.4"
  }
 },
 "nbformat": 4,
 "nbformat_minor": 5
}
