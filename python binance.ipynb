{
 "cells": [
  {
   "cell_type": "code",
   "execution_count": 1,
   "id": "edc177db-accb-4238-8fb7-8f3d1af1a9c4",
   "metadata": {},
   "outputs": [],
   "source": [
    "import pandas as pd\n",
    "from binance.client import Client\n",
    "import datetime"
   ]
  },
  {
   "cell_type": "code",
   "execution_count": 2,
   "id": "9f7be907-d124-4cd9-9dbf-81656d92f695",
   "metadata": {},
   "outputs": [],
   "source": [
    "api_key = \"GOZrLJNo4cNprZHoHRgLzSobYtBSFV7uS2Z11h8c802XtJFFVIIN4QMsTG3xjRo2\"\n",
    "api_secrect = \"ltSq856EmVFzQf1MWi7GqSUqvygmWPsPw7HSzmHyJl5wGc327T7pibpC6rgxDZwU\"\n",
    "\n",
    "testnet_api = \"JXBSMhkCxnSXx6dKugHf246mYPmSTyHKGrEMesCDWCaeoHUpFEEIpGqsR9WoxzJY\"\n",
    "testnet_api_secrect = \"kyYGKMyVfiCkzw3o3brsyDF6RoxieI7iIroR0T8xr9Exiq44M5YqqKxzPoloadUD\""
   ]
  },
  {
   "cell_type": "code",
   "execution_count": 3,
   "id": "783dbc2a-fe24-4665-8dcc-4da9fd097eb4",
   "metadata": {},
   "outputs": [],
   "source": [
    "client  = Client(api_key, api_secrect)"
   ]
  },
  {
   "cell_type": "code",
   "execution_count": 4,
   "id": "1214e3c9-e560-491a-83d7-562adbf135dc",
   "metadata": {},
   "outputs": [],
   "source": [
    "tickers = client.get_all_tickers()"
   ]
  },
  {
   "cell_type": "code",
   "execution_count": 5,
   "id": "9845dcd8-7d0c-4a28-86f1-d902a031dd9f",
   "metadata": {
    "scrolled": true
   },
   "outputs": [
    {
     "data": {
      "text/html": [
       "<div>\n",
       "<style scoped>\n",
       "    .dataframe tbody tr th:only-of-type {\n",
       "        vertical-align: middle;\n",
       "    }\n",
       "\n",
       "    .dataframe tbody tr th {\n",
       "        vertical-align: top;\n",
       "    }\n",
       "\n",
       "    .dataframe thead th {\n",
       "        text-align: right;\n",
       "    }\n",
       "</style>\n",
       "<table border=\"1\" class=\"dataframe\">\n",
       "  <thead>\n",
       "    <tr style=\"text-align: right;\">\n",
       "      <th></th>\n",
       "      <th>symbol</th>\n",
       "      <th>price</th>\n",
       "    </tr>\n",
       "  </thead>\n",
       "  <tbody>\n",
       "    <tr>\n",
       "      <th>2831</th>\n",
       "      <td>MOVEBTC</td>\n",
       "      <td>0.00000933</td>\n",
       "    </tr>\n",
       "    <tr>\n",
       "      <th>2832</th>\n",
       "      <td>MOVEUSDT</td>\n",
       "      <td>0.91000000</td>\n",
       "    </tr>\n",
       "    <tr>\n",
       "      <th>2833</th>\n",
       "      <td>MOVEBNB</td>\n",
       "      <td>0.00130400</td>\n",
       "    </tr>\n",
       "    <tr>\n",
       "      <th>2834</th>\n",
       "      <td>MOVEFDUSD</td>\n",
       "      <td>0.91160000</td>\n",
       "    </tr>\n",
       "    <tr>\n",
       "      <th>2835</th>\n",
       "      <td>MOVETRY</td>\n",
       "      <td>31.95400000</td>\n",
       "    </tr>\n",
       "  </tbody>\n",
       "</table>\n",
       "</div>"
      ],
      "text/plain": [
       "         symbol        price\n",
       "2831    MOVEBTC   0.00000933\n",
       "2832   MOVEUSDT   0.91000000\n",
       "2833    MOVEBNB   0.00130400\n",
       "2834  MOVEFDUSD   0.91160000\n",
       "2835    MOVETRY  31.95400000"
      ]
     },
     "execution_count": 5,
     "metadata": {},
     "output_type": "execute_result"
    }
   ],
   "source": [
    "df = pd.DataFrame(tickers)\n",
    "df.tail()"
   ]
  },
  {
   "cell_type": "code",
   "execution_count": 6,
   "id": "e44288de-6bf7-4ecd-b399-69ea3841c994",
   "metadata": {},
   "outputs": [
    {
     "data": {
      "text/plain": [
       "0.91"
      ]
     },
     "execution_count": 6,
     "metadata": {},
     "output_type": "execute_result"
    }
   ],
   "source": [
    "k = df[df['symbol'] == \"MOVEUSDT\"].copy()\n",
    "price = list(k['price'].astype(float))\n",
    "price[0]"
   ]
  },
  {
   "cell_type": "code",
   "execution_count": 7,
   "id": "f241a916-3b7a-40be-a486-bd9458414b35",
   "metadata": {
    "scrolled": true
   },
   "outputs": [
    {
     "data": {
      "text/plain": [
       "['bb']"
      ]
     },
     "execution_count": 7,
     "metadata": {},
     "output_type": "execute_result"
    }
   ],
   "source": [
    "def tracker(previous, current):\n",
    "    x = set(previous)\n",
    "    y = set(current)\n",
    "\n",
    "    return list(y - x)\n",
    "\n",
    "previous = [\"usdt\", \"eth\"]\n",
    "current = [\"usdt\", \"bb\"]\n",
    "\n",
    "tracker(previous, current)"
   ]
  },
  {
   "cell_type": "code",
   "execution_count": 8,
   "id": "359668ae-12f7-4ced-8aed-d05432628804",
   "metadata": {
    "scrolled": true
   },
   "outputs": [],
   "source": [
    "info = client.get_account()"
   ]
  },
  {
   "cell_type": "code",
   "execution_count": 9,
   "id": "4cab43b5-e19b-4032-9b92-bc1d4706d36a",
   "metadata": {},
   "outputs": [],
   "source": [
    "asset_balance = client.get_asset_balance(\"USDT\")"
   ]
  },
  {
   "cell_type": "code",
   "execution_count": 10,
   "id": "ed7fc47e-25e4-42ad-b839-74d41420ba1d",
   "metadata": {},
   "outputs": [
    {
     "data": {
      "text/plain": [
       "{'asset': 'USDT', 'free': '0.00000000', 'locked': '0.00000000'}"
      ]
     },
     "execution_count": 10,
     "metadata": {},
     "output_type": "execute_result"
    }
   ],
   "source": [
    "asset_balance"
   ]
  },
  {
   "cell_type": "code",
   "execution_count": 11,
   "id": "e0e834a9-ec90-459c-848f-d64d5ee2fff9",
   "metadata": {},
   "outputs": [],
   "source": [
    "trade_history = client.get_my_trades(symbol=\"XRPUSDT\")"
   ]
  },
  {
   "cell_type": "code",
   "execution_count": 12,
   "id": "d92560bd-b456-4220-aef5-c6b5363bf1d5",
   "metadata": {},
   "outputs": [
    {
     "data": {
      "text/plain": [
       "[{'symbol': 'XRPUSDT',\n",
       "  'id': 747859270,\n",
       "  'orderId': 7195885115,\n",
       "  'orderListId': -1,\n",
       "  'price': '1.46740000',\n",
       "  'qty': '8.00000000',\n",
       "  'quoteQty': '11.73920000',\n",
       "  'commission': '0.01173920',\n",
       "  'commissionAsset': 'USDT',\n",
       "  'time': 1732806007153,\n",
       "  'isBuyer': False,\n",
       "  'isMaker': True,\n",
       "  'isBestMatch': True}]"
      ]
     },
     "execution_count": 12,
     "metadata": {},
     "output_type": "execute_result"
    }
   ],
   "source": [
    "trade_history"
   ]
  },
  {
   "cell_type": "code",
   "execution_count": 13,
   "id": "3d163b19-cf4e-4b31-8c11-d5760a624b67",
   "metadata": {},
   "outputs": [],
   "source": [
    "order_client = Client(testnet_api, testnet_api_secrect, testnet=True)"
   ]
  },
  {
   "cell_type": "code",
   "execution_count": 14,
   "id": "5aedde4e-ac6f-4acc-bde6-1a5287fec5b9",
   "metadata": {},
   "outputs": [],
   "source": [
    "new_pair = \"BTCUSDT\"\n",
    "order_ = df[df['symbol'] == new_pair]\n",
    "order_price = list(order_['price'].astype(float))\n",
    "qunat = 60 / order_price[0]\n",
    "\n",
    "buy_order = order_client.create_test_order(\n",
    "    symbol=new_pair, \n",
    "    side=\"BUY\",\n",
    "    type=\"MARKET\",\n",
    "    quantity=round(qunat, 5)\n",
    ")\n"
   ]
  },
  {
   "cell_type": "code",
   "execution_count": 15,
   "id": "6cf46498-93b9-4eda-8bf6-16f351ce546e",
   "metadata": {},
   "outputs": [
    {
     "data": {
      "text/plain": [
       "{}"
      ]
     },
     "execution_count": 15,
     "metadata": {},
     "output_type": "execute_result"
    }
   ],
   "source": [
    "buy_order"
   ]
  },
  {
   "cell_type": "code",
   "execution_count": null,
   "id": "323d9573-c963-49a0-b547-75d29bbdf050",
   "metadata": {},
   "outputs": [],
   "source": []
  }
 ],
 "metadata": {
  "kernelspec": {
   "display_name": "Python 3 (ipykernel)",
   "language": "python",
   "name": "python3"
  },
  "language_info": {
   "codemirror_mode": {
    "name": "ipython",
    "version": 3
   },
   "file_extension": ".py",
   "mimetype": "text/x-python",
   "name": "python",
   "nbconvert_exporter": "python",
   "pygments_lexer": "ipython3",
   "version": "3.11.4"
  }
 },
 "nbformat": 4,
 "nbformat_minor": 5
}
